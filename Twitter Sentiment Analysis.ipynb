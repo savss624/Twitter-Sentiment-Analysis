{
 "cells": [
  {
   "cell_type": "markdown",
   "id": "b9faa5af",
   "metadata": {},
   "source": [
    "## Twitter Sentiment Analysis Supervised Learning Model using NLTK and SVM"
   ]
  },
  {
   "cell_type": "code",
   "execution_count": 1,
   "id": "a180445c",
   "metadata": {},
   "outputs": [],
   "source": [
    "import numpy as np\n",
    "import pandas as pd"
   ]
  },
  {
   "cell_type": "markdown",
   "id": "a127e29b",
   "metadata": {},
   "source": [
    "### Data Exploration"
   ]
  },
  {
   "cell_type": "code",
   "execution_count": 2,
   "id": "57b7dbdb",
   "metadata": {},
   "outputs": [],
   "source": [
    "# reading data\n",
    "twitter_training_df = pd.read_csv('./Data/twitter_x_y_train.csv')\n",
    "twitter_testing_df = pd.read_csv('./Data/twitter_x_test.csv')"
   ]
  },
  {
   "cell_type": "code",
   "execution_count": 3,
   "id": "7b6cbb10",
   "metadata": {},
   "outputs": [],
   "source": [
    "training_data = twitter_training_df['text']\n",
    "training_sentiment_clf = twitter_training_df['airline_sentiment']"
   ]
  },
  {
   "cell_type": "code",
   "execution_count": 4,
   "id": "e913b49a",
   "metadata": {},
   "outputs": [],
   "source": [
    "testing_data = twitter_testing_df['text']"
   ]
  },
  {
   "cell_type": "markdown",
   "id": "bd89d94d",
   "metadata": {},
   "source": [
    "### Data Cleaning"
   ]
  },
  {
   "cell_type": "code",
   "execution_count": 5,
   "id": "9057b713",
   "metadata": {},
   "outputs": [],
   "source": [
    "# importing nlp libraries\n",
    "from nltk.tokenize import word_tokenize\n",
    "from nltk.corpus import stopwords\n",
    "from nltk import pos_tag\n",
    "from nltk.stem import WordNetLemmatizer\n",
    "lemmatizer = WordNetLemmatizer()"
   ]
  },
  {
   "cell_type": "code",
   "execution_count": 6,
   "id": "e8c52495",
   "metadata": {},
   "outputs": [],
   "source": [
    "import string\n",
    "stops = stopwords.words('english') + list(string.punctuation)"
   ]
  },
  {
   "cell_type": "code",
   "execution_count": 7,
   "id": "39d55578",
   "metadata": {},
   "outputs": [],
   "source": [
    "from nltk.corpus import wordnet\n",
    "def get_simple_pos(tag): #creating simple tags to pass into the lemmatizer\n",
    "    if tag.startswith('J'):\n",
    "        return wordnet.ADJ\n",
    "    elif tag.startswith('V'):\n",
    "        return wordnet.VERB\n",
    "    elif tag.startswith('N'):\n",
    "        return wordnet.NOUN\n",
    "    elif tag.startswith('R'):\n",
    "        return wordnet.ADV\n",
    "    else:\n",
    "        return wordnet.NOUN"
   ]
  },
  {
   "cell_type": "code",
   "execution_count": 8,
   "id": "399aa15f",
   "metadata": {},
   "outputs": [],
   "source": [
    "def clean_tweet(words):\n",
    "    cleaned_words = [] \n",
    "    for word in words:\n",
    "        if word.lower() not in stops:\n",
    "            lemmatized_word = lemmatizer.lemmatize(word, pos = get_simple_pos(pos_tag([word])[0][1]))\n",
    "            cleaned_words.append(lemmatized_word.lower())\n",
    "    return cleaned_words"
   ]
  },
  {
   "cell_type": "code",
   "execution_count": 9,
   "id": "ac1d9a0b",
   "metadata": {},
   "outputs": [],
   "source": [
    "# joining all cleaned words list\n",
    "cleaned_training_data = [' '.join(clean_tweet(word_tokenize(tweet))) for tweet in training_data]\n",
    "cleaned_testing_data = [' '.join(clean_tweet(word_tokenize(tweet))) for tweet in testing_data]"
   ]
  },
  {
   "cell_type": "code",
   "execution_count": 10,
   "id": "71138e2e",
   "metadata": {},
   "outputs": [],
   "source": [
    "x_train_raw = cleaned_training_data\n",
    "x_test_raw = cleaned_testing_data\n",
    "y_train = training_sentiment_clf"
   ]
  },
  {
   "cell_type": "markdown",
   "id": "e14d7240",
   "metadata": {},
   "source": [
    "### Data Processing"
   ]
  },
  {
   "cell_type": "code",
   "execution_count": 11,
   "id": "77f0bddc",
   "metadata": {},
   "outputs": [],
   "source": [
    "from sklearn.feature_extraction.text import CountVectorizer"
   ]
  },
  {
   "cell_type": "code",
   "execution_count": 12,
   "id": "22e711f2",
   "metadata": {},
   "outputs": [],
   "source": [
    "# creating sparse matrix of each tweet with 5000 features each\n",
    "count_vec = CountVectorizer(max_features = 5000, ngram_range = (1, 2))\n",
    "x_train = count_vec.fit_transform(x_train_raw)\n",
    "x_test = count_vec.transform(x_test_raw)"
   ]
  },
  {
   "cell_type": "markdown",
   "id": "e7ee47ac",
   "metadata": {},
   "source": [
    "### Modeling"
   ]
  },
  {
   "cell_type": "code",
   "execution_count": 13,
   "id": "40f5540d",
   "metadata": {},
   "outputs": [],
   "source": [
    "from sklearn.svm import SVC"
   ]
  },
  {
   "cell_type": "code",
   "execution_count": 14,
   "id": "45e09ae5",
   "metadata": {},
   "outputs": [],
   "source": [
    "# running support vector machines\n",
    "svc = SVC(kernel = 'rbf')"
   ]
  },
  {
   "cell_type": "code",
   "execution_count": 15,
   "id": "6b3a604c",
   "metadata": {},
   "outputs": [],
   "source": [
    "from sklearn.model_selection import GridSearchCV"
   ]
  },
  {
   "cell_type": "code",
   "execution_count": 16,
   "id": "d4521ddb",
   "metadata": {},
   "outputs": [
    {
     "data": {
      "text/plain": [
       "GridSearchCV(estimator=SVC(),\n",
       "             param_grid={'C': [1.0, 10.0, 100.0], 'gamma': [0.001, 0.01, 0.1]})"
      ]
     },
     "execution_count": 16,
     "metadata": {},
     "output_type": "execute_result"
    }
   ],
   "source": [
    "# performing grid search\n",
    "grid = {\n",
    "    'C': [1e0, 1e1, 1e2],\n",
    "    'gamma': [1e-3, 1e-2, 1e-1]\n",
    "}\n",
    "cv_svc = GridSearchCV(svc, grid)\n",
    "cv_svc.fit(x_train, y_train)"
   ]
  },
  {
   "cell_type": "code",
   "execution_count": 17,
   "id": "f982ca28",
   "metadata": {},
   "outputs": [
    {
     "data": {
      "text/plain": [
       "SVC(C=10.0, gamma=0.01)"
      ]
     },
     "execution_count": 17,
     "metadata": {},
     "output_type": "execute_result"
    }
   ],
   "source": [
    "cv_svc.best_estimator_"
   ]
  },
  {
   "cell_type": "markdown",
   "id": "9c305930",
   "metadata": {},
   "source": [
    "### Model Testing"
   ]
  },
  {
   "cell_type": "code",
   "execution_count": 18,
   "id": "b144d03c",
   "metadata": {},
   "outputs": [
    {
     "data": {
      "text/plain": [
       "0.9031876138433516"
      ]
     },
     "execution_count": 18,
     "metadata": {},
     "output_type": "execute_result"
    }
   ],
   "source": [
    "cv_svc.score(x_train, y_train)"
   ]
  },
  {
   "cell_type": "code",
   "execution_count": 19,
   "id": "2df09d9b",
   "metadata": {},
   "outputs": [
    {
     "name": "stdout",
     "output_type": "stream",
     "text": [
      "              precision    recall  f1-score   support\n",
      "\n",
      "    negative       0.93      0.96      0.94      6851\n",
      "     neutral       0.82      0.80      0.81      2327\n",
      "    positive       0.90      0.83      0.86      1802\n",
      "\n",
      "    accuracy                           0.90     10980\n",
      "   macro avg       0.88      0.86      0.87     10980\n",
      "weighted avg       0.90      0.90      0.90     10980\n",
      "\n"
     ]
    }
   ],
   "source": [
    "# creating the classification report\n",
    "from sklearn.metrics import classification_report\n",
    "report = classification_report(y_train, cv_svc.predict(x_train))\n",
    "print(report)"
   ]
  },
  {
   "cell_type": "code",
   "execution_count": 20,
   "id": "14d1e58d",
   "metadata": {},
   "outputs": [],
   "source": [
    "def classify(text): # function to classify raw text\n",
    "    return cv_svc.predict(count_vec.transform([' '.join(clean_tweet(word_tokenize(text)))]))"
   ]
  },
  {
   "cell_type": "code",
   "execution_count": 21,
   "id": "35112667",
   "metadata": {},
   "outputs": [
    {
     "data": {
      "text/plain": [
       "array(['neutral'], dtype=object)"
      ]
     },
     "execution_count": 21,
     "metadata": {},
     "output_type": "execute_result"
    }
   ],
   "source": [
    "classify('there you go')"
   ]
  },
  {
   "cell_type": "code",
   "execution_count": 22,
   "id": "1353b54b",
   "metadata": {},
   "outputs": [],
   "source": [
    "y_pred = cv_svc.predict(x_test)"
   ]
  },
  {
   "cell_type": "code",
   "execution_count": 23,
   "id": "7e82ae90",
   "metadata": {},
   "outputs": [],
   "source": [
    "# saving the predictions\n",
    "np.savetxt('./Twitter Sentiment Analysis.csv', y_pred, delimiter = ',', fmt = '%s')"
   ]
  }
 ],
 "metadata": {
  "kernelspec": {
   "display_name": "Python 3 (ipykernel)",
   "language": "python",
   "name": "python3"
  },
  "language_info": {
   "codemirror_mode": {
    "name": "ipython",
    "version": 3
   },
   "file_extension": ".py",
   "mimetype": "text/x-python",
   "name": "python",
   "nbconvert_exporter": "python",
   "pygments_lexer": "ipython3",
   "version": "3.9.6"
  }
 },
 "nbformat": 4,
 "nbformat_minor": 5
}
